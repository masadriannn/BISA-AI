{
  "nbformat": 4,
  "nbformat_minor": 0,
  "metadata": {
    "colab": {
      "name": "Praktikum Tugas Akhir.ipynb",
      "provenance": []
    },
    "kernelspec": {
      "name": "python3",
      "display_name": "Python 3"
    },
    "language_info": {
      "name": "python"
    }
  },
  "cells": [
    {
      "cell_type": "markdown",
      "source": [
        "Hai semuanya, pada kesempatan ini kalian akan mengerjakan tugas akhir berupa praktikum analisis data menggunakan PySpark.\n",
        "\n",
        "Semangat Belajar dan Jangan menyerah :)"
      ],
      "metadata": {
        "id": "GePxdrQji13H"
      }
    },
    {
      "cell_type": "markdown",
      "source": [
        "Silahkan download data berikut\n",
        "https://drive.google.com/drive/folders/1NhEG9zRplX6QXnwhk9-QJxV1hmzpknGD?usp=sharing\n",
        "\n",
        "dan masukan ke dalam google drive anda "
      ],
      "metadata": {
        "id": "NDdkAXsloDIJ"
      }
    },
    {
      "cell_type": "markdown",
      "source": [
        "**1. Silahkan install PySpark**"
      ],
      "metadata": {
        "id": "Hwy6zvcnoPkX"
      }
    },
    {
      "cell_type": "code",
      "source": [
        "!pip install pyspark py4j"
      ],
      "metadata": {
        "id": "dPxja1Q8jY3l",
        "outputId": "b9c7fcb3-4b8b-4e5c-9d1b-bfbfa66e88e5",
        "colab": {
          "base_uri": "https://localhost:8080/"
        }
      },
      "execution_count": 2,
      "outputs": [
        {
          "output_type": "stream",
          "name": "stdout",
          "text": [
            "Collecting pyspark\n",
            "  Downloading pyspark-3.2.1.tar.gz (281.4 MB)\n",
            "\u001b[K     |████████████████████████████████| 281.4 MB 33 kB/s \n",
            "\u001b[?25hCollecting py4j\n",
            "  Downloading py4j-0.10.9.5-py2.py3-none-any.whl (199 kB)\n",
            "\u001b[K     |████████████████████████████████| 199 kB 43.2 MB/s \n",
            "\u001b[?25h  Downloading py4j-0.10.9.3-py2.py3-none-any.whl (198 kB)\n",
            "\u001b[K     |████████████████████████████████| 198 kB 58.3 MB/s \n",
            "\u001b[?25hBuilding wheels for collected packages: pyspark\n",
            "  Building wheel for pyspark (setup.py) ... \u001b[?25l\u001b[?25hdone\n",
            "  Created wheel for pyspark: filename=pyspark-3.2.1-py2.py3-none-any.whl size=281853642 sha256=a95f7fca10fc8362d63e3c24a1cc1192c61025a3e394ba05ca0266978594df26\n",
            "  Stored in directory: /root/.cache/pip/wheels/9f/f5/07/7cd8017084dce4e93e84e92efd1e1d5334db05f2e83bcef74f\n",
            "Successfully built pyspark\n",
            "Installing collected packages: py4j, pyspark\n",
            "Successfully installed py4j-0.10.9.3 pyspark-3.2.1\n"
          ]
        }
      ]
    },
    {
      "cell_type": "markdown",
      "source": [
        "**2. Silahkan Mengcreate Spark Session**"
      ],
      "metadata": {
        "id": "5eqbGQ06oZBg"
      }
    },
    {
      "cell_type": "code",
      "source": [
        "from pyspark.sql import SparkSession"
      ],
      "metadata": {
        "id": "Rf2y4rb8oYp3"
      },
      "execution_count": 3,
      "outputs": []
    },
    {
      "cell_type": "code",
      "source": [
        "spark = SparkSession.builder.appName(\"test_pyspark\").getOrCreate()"
      ],
      "metadata": {
        "id": "YuuR0P-hvF5j"
      },
      "execution_count": 4,
      "outputs": []
    },
    {
      "cell_type": "code",
      "source": [
        "spark"
      ],
      "metadata": {
        "id": "ZaPD62_xvMaK",
        "outputId": "4c0e2ac0-9c04-4a60-d050-b07c415ef47a",
        "colab": {
          "base_uri": "https://localhost:8080/",
          "height": 219
        }
      },
      "execution_count": 5,
      "outputs": [
        {
          "output_type": "execute_result",
          "data": {
            "text/plain": [
              "<pyspark.sql.session.SparkSession at 0x7fc810128b50>"
            ],
            "text/html": [
              "\n",
              "            <div>\n",
              "                <p><b>SparkSession - in-memory</b></p>\n",
              "                \n",
              "        <div>\n",
              "            <p><b>SparkContext</b></p>\n",
              "\n",
              "            <p><a href=\"http://42f1379d8bcc:4040\">Spark UI</a></p>\n",
              "\n",
              "            <dl>\n",
              "              <dt>Version</dt>\n",
              "                <dd><code>v3.2.1</code></dd>\n",
              "              <dt>Master</dt>\n",
              "                <dd><code>local[*]</code></dd>\n",
              "              <dt>AppName</dt>\n",
              "                <dd><code>test_pyspark</code></dd>\n",
              "            </dl>\n",
              "        </div>\n",
              "        \n",
              "            </div>\n",
              "        "
            ]
          },
          "metadata": {},
          "execution_count": 5
        }
      ]
    },
    {
      "cell_type": "markdown",
      "source": [
        "**3. Masukan data yang telah di download pada google drive**"
      ],
      "metadata": {
        "id": "_Jh8ywhwpCOR"
      }
    },
    {
      "cell_type": "code",
      "source": [
        "from google.colab import drive\n",
        "drive.mount('/content/drive')"
      ],
      "metadata": {
        "id": "tRK8QwDaHuIg",
        "outputId": "0cb55d7a-78d9-4f95-c89a-6258e984f477",
        "colab": {
          "base_uri": "https://localhost:8080/"
        }
      },
      "execution_count": 6,
      "outputs": [
        {
          "output_type": "stream",
          "name": "stdout",
          "text": [
            "Mounted at /content/drive\n"
          ]
        }
      ]
    },
    {
      "cell_type": "code",
      "source": [
        "df = spark.read.csv('/content/drive/MyDrive/Colab Notebooks/mall.csv', header=True, inferSchema=True)"
      ],
      "metadata": {
        "id": "Gapyw1XuovZX"
      },
      "execution_count": 8,
      "outputs": []
    },
    {
      "cell_type": "markdown",
      "source": [
        "**4. Buat Perintah yang dapat menampilkan tipe data pada setiap kolom**"
      ],
      "metadata": {
        "id": "mX-e1aeepSpt"
      }
    },
    {
      "cell_type": "code",
      "source": [
        "df.printSchema()"
      ],
      "metadata": {
        "id": "GtOSZJkjpbhy",
        "outputId": "0a720989-37d0-4329-bcfe-614839f89e44",
        "colab": {
          "base_uri": "https://localhost:8080/"
        }
      },
      "execution_count": 9,
      "outputs": [
        {
          "output_type": "stream",
          "name": "stdout",
          "text": [
            "root\n",
            " |-- CustomerID: integer (nullable = true)\n",
            " |-- Gender: string (nullable = true)\n",
            " |-- Age: integer (nullable = true)\n",
            " |-- Annual Income (k$): integer (nullable = true)\n",
            " |-- Spending Score (1-100): integer (nullable = true)\n",
            "\n"
          ]
        }
      ]
    },
    {
      "cell_type": "markdown",
      "source": [
        "**5. Buat perintah yang dapat menampilkan nama kolom, jumlah baris, dan jumlah kolom**"
      ],
      "metadata": {
        "id": "CTMXUWRipb-n"
      }
    },
    {
      "cell_type": "code",
      "source": [
        "df.columns"
      ],
      "metadata": {
        "id": "ZGQpqDVXppsG",
        "outputId": "b9251a70-f051-4952-c999-64ade1118c7d",
        "colab": {
          "base_uri": "https://localhost:8080/"
        }
      },
      "execution_count": 10,
      "outputs": [
        {
          "output_type": "execute_result",
          "data": {
            "text/plain": [
              "['CustomerID', 'Gender', 'Age', 'Annual Income (k$)', 'Spending Score (1-100)']"
            ]
          },
          "metadata": {},
          "execution_count": 10
        }
      ]
    },
    {
      "cell_type": "code",
      "source": [
        "df.count()"
      ],
      "metadata": {
        "id": "HyGOyJdlI-mK",
        "outputId": "c412fd57-6866-4f5d-eaab-5898ff3d125f",
        "colab": {
          "base_uri": "https://localhost:8080/"
        }
      },
      "execution_count": 11,
      "outputs": [
        {
          "output_type": "execute_result",
          "data": {
            "text/plain": [
              "200"
            ]
          },
          "metadata": {},
          "execution_count": 11
        }
      ]
    },
    {
      "cell_type": "code",
      "source": [
        "len(df.columns)"
      ],
      "metadata": {
        "id": "9zx74VRVJBJ3",
        "outputId": "61792d4c-d061-4e26-f4ff-42966aeda052",
        "colab": {
          "base_uri": "https://localhost:8080/"
        }
      },
      "execution_count": 12,
      "outputs": [
        {
          "output_type": "execute_result",
          "data": {
            "text/plain": [
              "5"
            ]
          },
          "metadata": {},
          "execution_count": 12
        }
      ]
    },
    {
      "cell_type": "markdown",
      "source": [
        "**6. Buat perintah yang dapat menampilkan statistik data pada setiap kolom**"
      ],
      "metadata": {
        "id": "lXK4vu7iplVY"
      }
    },
    {
      "cell_type": "code",
      "source": [
        "df.describe().show()"
      ],
      "metadata": {
        "id": "iIsEnLUPp0Cu",
        "outputId": "2251adb5-eadf-4cd8-a943-026f3bb8122f",
        "colab": {
          "base_uri": "https://localhost:8080/"
        }
      },
      "execution_count": 13,
      "outputs": [
        {
          "output_type": "stream",
          "name": "stdout",
          "text": [
            "+-------+------------------+------+-----------------+------------------+----------------------+\n",
            "|summary|        CustomerID|Gender|              Age|Annual Income (k$)|Spending Score (1-100)|\n",
            "+-------+------------------+------+-----------------+------------------+----------------------+\n",
            "|  count|               200|   200|              200|               200|                   200|\n",
            "|   mean|             100.5|  null|            38.85|             60.56|                  50.2|\n",
            "| stddev|57.879184513951124|  null|13.96900733155888| 26.26472116527124|    25.823521668370173|\n",
            "|    min|                 1|Female|               18|                15|                     1|\n",
            "|    max|               200|  Male|               70|               137|                    99|\n",
            "+-------+------------------+------+-----------------+------------------+----------------------+\n",
            "\n"
          ]
        }
      ]
    },
    {
      "cell_type": "markdown",
      "source": [
        "**7. Buat perintah yang dapat menampilkan 2 kolom**"
      ],
      "metadata": {
        "id": "DdlxMKhpp0od"
      }
    },
    {
      "cell_type": "code",
      "source": [
        "df.select('CustomerID', 'Age').show()"
      ],
      "metadata": {
        "id": "2KVe_kEzp_m9",
        "outputId": "22c0ea26-37b5-4161-d901-f1345e7ab392",
        "colab": {
          "base_uri": "https://localhost:8080/"
        }
      },
      "execution_count": 14,
      "outputs": [
        {
          "output_type": "stream",
          "name": "stdout",
          "text": [
            "+----------+---+\n",
            "|CustomerID|Age|\n",
            "+----------+---+\n",
            "|         1| 19|\n",
            "|         2| 21|\n",
            "|         3| 20|\n",
            "|         4| 23|\n",
            "|         5| 31|\n",
            "|         6| 22|\n",
            "|         7| 35|\n",
            "|         8| 23|\n",
            "|         9| 64|\n",
            "|        10| 30|\n",
            "|        11| 67|\n",
            "|        12| 35|\n",
            "|        13| 58|\n",
            "|        14| 24|\n",
            "|        15| 37|\n",
            "|        16| 22|\n",
            "|        17| 35|\n",
            "|        18| 20|\n",
            "|        19| 52|\n",
            "|        20| 35|\n",
            "+----------+---+\n",
            "only showing top 20 rows\n",
            "\n"
          ]
        }
      ]
    },
    {
      "cell_type": "markdown",
      "source": [
        "**8. Buat perintah yang dapat membuat kolom baru dengan menambahkan value pada nilai tabel**"
      ],
      "metadata": {
        "id": "LkK0pTbjqACN"
      }
    },
    {
      "cell_type": "code",
      "source": [
        "df.withColumn('Age_Baru',df.Age+1).show()"
      ],
      "metadata": {
        "id": "PiM4BvSQqMh2",
        "outputId": "b59bd30c-3771-41ec-80e3-18ccb8091de0",
        "colab": {
          "base_uri": "https://localhost:8080/"
        }
      },
      "execution_count": 15,
      "outputs": [
        {
          "output_type": "stream",
          "name": "stdout",
          "text": [
            "+----------+------+---+------------------+----------------------+--------+\n",
            "|CustomerID|Gender|Age|Annual Income (k$)|Spending Score (1-100)|Age_Baru|\n",
            "+----------+------+---+------------------+----------------------+--------+\n",
            "|         1|  Male| 19|                15|                    39|      20|\n",
            "|         2|  Male| 21|                15|                    81|      22|\n",
            "|         3|Female| 20|                16|                     6|      21|\n",
            "|         4|Female| 23|                16|                    77|      24|\n",
            "|         5|Female| 31|                17|                    40|      32|\n",
            "|         6|Female| 22|                17|                    76|      23|\n",
            "|         7|Female| 35|                18|                     6|      36|\n",
            "|         8|Female| 23|                18|                    94|      24|\n",
            "|         9|  Male| 64|                19|                     3|      65|\n",
            "|        10|Female| 30|                19|                    72|      31|\n",
            "|        11|  Male| 67|                19|                    14|      68|\n",
            "|        12|Female| 35|                19|                    99|      36|\n",
            "|        13|Female| 58|                20|                    15|      59|\n",
            "|        14|Female| 24|                20|                    77|      25|\n",
            "|        15|  Male| 37|                20|                    13|      38|\n",
            "|        16|  Male| 22|                20|                    79|      23|\n",
            "|        17|Female| 35|                21|                    35|      36|\n",
            "|        18|  Male| 20|                21|                    66|      21|\n",
            "|        19|  Male| 52|                23|                    29|      53|\n",
            "|        20|Female| 35|                23|                    98|      36|\n",
            "+----------+------+---+------------------+----------------------+--------+\n",
            "only showing top 20 rows\n",
            "\n"
          ]
        }
      ]
    },
    {
      "cell_type": "markdown",
      "source": [
        "**9. Buat perintah yang dapat melakukan perubahan pada nama kolom**"
      ],
      "metadata": {
        "id": "WhZ1ydvyqM4G"
      }
    },
    {
      "cell_type": "code",
      "source": [
        "df.withColumnRenamed('Annual Income (k$)','Income').show()"
      ],
      "metadata": {
        "id": "yMRgTMkhqcTH",
        "outputId": "ad44c609-6056-428c-80e1-c07cadbcdaa8",
        "colab": {
          "base_uri": "https://localhost:8080/"
        }
      },
      "execution_count": 16,
      "outputs": [
        {
          "output_type": "stream",
          "name": "stdout",
          "text": [
            "+----------+------+---+------+----------------------+\n",
            "|CustomerID|Gender|Age|Income|Spending Score (1-100)|\n",
            "+----------+------+---+------+----------------------+\n",
            "|         1|  Male| 19|    15|                    39|\n",
            "|         2|  Male| 21|    15|                    81|\n",
            "|         3|Female| 20|    16|                     6|\n",
            "|         4|Female| 23|    16|                    77|\n",
            "|         5|Female| 31|    17|                    40|\n",
            "|         6|Female| 22|    17|                    76|\n",
            "|         7|Female| 35|    18|                     6|\n",
            "|         8|Female| 23|    18|                    94|\n",
            "|         9|  Male| 64|    19|                     3|\n",
            "|        10|Female| 30|    19|                    72|\n",
            "|        11|  Male| 67|    19|                    14|\n",
            "|        12|Female| 35|    19|                    99|\n",
            "|        13|Female| 58|    20|                    15|\n",
            "|        14|Female| 24|    20|                    77|\n",
            "|        15|  Male| 37|    20|                    13|\n",
            "|        16|  Male| 22|    20|                    79|\n",
            "|        17|Female| 35|    21|                    35|\n",
            "|        18|  Male| 20|    21|                    66|\n",
            "|        19|  Male| 52|    23|                    29|\n",
            "|        20|Female| 35|    23|                    98|\n",
            "+----------+------+---+------+----------------------+\n",
            "only showing top 20 rows\n",
            "\n"
          ]
        }
      ]
    },
    {
      "cell_type": "markdown",
      "source": [
        "**10. Buat Perintah yang dapat melakukan filter data pada salah satu kolom**"
      ],
      "metadata": {
        "id": "zqNPg3KQqi4N"
      }
    },
    {
      "cell_type": "code",
      "source": [
        "df.filter(df['Age']>68).show()"
      ],
      "metadata": {
        "id": "yCcxP2TcqsC1",
        "outputId": "7497a569-2f16-44a0-985c-821f599de78a",
        "colab": {
          "base_uri": "https://localhost:8080/"
        }
      },
      "execution_count": 20,
      "outputs": [
        {
          "output_type": "stream",
          "name": "stdout",
          "text": [
            "+----------+------+---+------------------+----------------------+\n",
            "|CustomerID|Gender|Age|Annual Income (k$)|Spending Score (1-100)|\n",
            "+----------+------+---+------------------+----------------------+\n",
            "|        58|  Male| 69|                44|                    46|\n",
            "|        61|  Male| 70|                46|                    56|\n",
            "|        71|  Male| 70|                49|                    55|\n",
            "+----------+------+---+------------------+----------------------+\n",
            "\n"
          ]
        }
      ]
    },
    {
      "cell_type": "markdown",
      "source": [
        "**11. Silahkan lakukan penampahan nilai data jika terdapat data kosong pada dataframe**"
      ],
      "metadata": {
        "id": "nhaDlPl4rBi_"
      }
    },
    {
      "cell_type": "code",
      "source": [
        "df.show()"
      ],
      "metadata": {
        "id": "UY5BTeWNrLwu",
        "outputId": "71923d8c-b689-430e-d331-30cf9dd19300",
        "colab": {
          "base_uri": "https://localhost:8080/"
        }
      },
      "execution_count": 21,
      "outputs": [
        {
          "output_type": "stream",
          "name": "stdout",
          "text": [
            "+----------+------+---+------------------+----------------------+\n",
            "|CustomerID|Gender|Age|Annual Income (k$)|Spending Score (1-100)|\n",
            "+----------+------+---+------------------+----------------------+\n",
            "|         1|  Male| 19|                15|                    39|\n",
            "|         2|  Male| 21|                15|                    81|\n",
            "|         3|Female| 20|                16|                     6|\n",
            "|         4|Female| 23|                16|                    77|\n",
            "|         5|Female| 31|                17|                    40|\n",
            "|         6|Female| 22|                17|                    76|\n",
            "|         7|Female| 35|                18|                     6|\n",
            "|         8|Female| 23|                18|                    94|\n",
            "|         9|  Male| 64|                19|                     3|\n",
            "|        10|Female| 30|                19|                    72|\n",
            "|        11|  Male| 67|                19|                    14|\n",
            "|        12|Female| 35|                19|                    99|\n",
            "|        13|Female| 58|                20|                    15|\n",
            "|        14|Female| 24|                20|                    77|\n",
            "|        15|  Male| 37|                20|                    13|\n",
            "|        16|  Male| 22|                20|                    79|\n",
            "|        17|Female| 35|                21|                    35|\n",
            "|        18|  Male| 20|                21|                    66|\n",
            "|        19|  Male| 52|                23|                    29|\n",
            "|        20|Female| 35|                23|                    98|\n",
            "+----------+------+---+------------------+----------------------+\n",
            "only showing top 20 rows\n",
            "\n"
          ]
        }
      ]
    },
    {
      "cell_type": "code",
      "source": [
        "from pyspark.sql.functions import mean"
      ],
      "metadata": {
        "id": "0YlIhWqpLHKs"
      },
      "execution_count": 22,
      "outputs": []
    },
    {
      "cell_type": "code",
      "source": [
        "mean1 = df.select(mean(df['Age'])).collect()"
      ],
      "metadata": {
        "id": "ivbNx5bhLMBK"
      },
      "execution_count": 23,
      "outputs": []
    },
    {
      "cell_type": "code",
      "source": [
        "mean1[0][0]"
      ],
      "metadata": {
        "id": "okBkn2CNLSaV",
        "outputId": "49a64c5b-ab81-464e-f84a-866f3aba5996",
        "colab": {
          "base_uri": "https://localhost:8080/"
        }
      },
      "execution_count": 24,
      "outputs": [
        {
          "output_type": "execute_result",
          "data": {
            "text/plain": [
              "38.85"
            ]
          },
          "metadata": {},
          "execution_count": 24
        }
      ]
    },
    {
      "cell_type": "code",
      "source": [
        "df.fillna(mean1[0][0]).show()"
      ],
      "metadata": {
        "id": "NeINoH5LLWsH",
        "outputId": "a16e5cbb-9de5-4e03-de89-fd7dcc4de1da",
        "colab": {
          "base_uri": "https://localhost:8080/"
        }
      },
      "execution_count": 25,
      "outputs": [
        {
          "output_type": "stream",
          "name": "stdout",
          "text": [
            "+----------+------+---+------------------+----------------------+\n",
            "|CustomerID|Gender|Age|Annual Income (k$)|Spending Score (1-100)|\n",
            "+----------+------+---+------------------+----------------------+\n",
            "|         1|  Male| 19|                15|                    39|\n",
            "|         2|  Male| 21|                15|                    81|\n",
            "|         3|Female| 20|                16|                     6|\n",
            "|         4|Female| 23|                16|                    77|\n",
            "|         5|Female| 31|                17|                    40|\n",
            "|         6|Female| 22|                17|                    76|\n",
            "|         7|Female| 35|                18|                     6|\n",
            "|         8|Female| 23|                18|                    94|\n",
            "|         9|  Male| 64|                19|                     3|\n",
            "|        10|Female| 30|                19|                    72|\n",
            "|        11|  Male| 67|                19|                    14|\n",
            "|        12|Female| 35|                19|                    99|\n",
            "|        13|Female| 58|                20|                    15|\n",
            "|        14|Female| 24|                20|                    77|\n",
            "|        15|  Male| 37|                20|                    13|\n",
            "|        16|  Male| 22|                20|                    79|\n",
            "|        17|Female| 35|                21|                    35|\n",
            "|        18|  Male| 20|                21|                    66|\n",
            "|        19|  Male| 52|                23|                    29|\n",
            "|        20|Female| 35|                23|                    98|\n",
            "+----------+------+---+------------------+----------------------+\n",
            "only showing top 20 rows\n",
            "\n"
          ]
        }
      ]
    },
    {
      "cell_type": "markdown",
      "source": [
        "**12. Silahkan lakukan visualisasi data untuk salah satu kolom**"
      ],
      "metadata": {
        "id": "HbrL5tYIq1og"
      }
    },
    {
      "cell_type": "code",
      "source": [
        "pip install plotly --upgrade"
      ],
      "metadata": {
        "id": "frjdKQ_-q-tV",
        "outputId": "14de46a3-dc2e-43fc-adee-c80d55bb6a62",
        "colab": {
          "base_uri": "https://localhost:8080/"
        }
      },
      "execution_count": 26,
      "outputs": [
        {
          "output_type": "stream",
          "name": "stdout",
          "text": [
            "Requirement already satisfied: plotly in /usr/local/lib/python3.7/dist-packages (5.5.0)\n",
            "Collecting plotly\n",
            "  Downloading plotly-5.8.0-py2.py3-none-any.whl (15.2 MB)\n",
            "\u001b[K     |████████████████████████████████| 15.2 MB 14.7 MB/s \n",
            "\u001b[?25hRequirement already satisfied: tenacity>=6.2.0 in /usr/local/lib/python3.7/dist-packages (from plotly) (8.0.1)\n",
            "Installing collected packages: plotly\n",
            "  Attempting uninstall: plotly\n",
            "    Found existing installation: plotly 5.5.0\n",
            "    Uninstalling plotly-5.5.0:\n",
            "      Successfully uninstalled plotly-5.5.0\n",
            "Successfully installed plotly-5.8.0\n"
          ]
        }
      ]
    },
    {
      "cell_type": "code",
      "source": [
        "import plotly as py\n",
        "import plotly.express as px\n",
        "import pandas as pd\n",
        "import matplotlib.pyplot as plt\n",
        "import seaborn as sns"
      ],
      "metadata": {
        "id": "rRXGD96-L63B"
      },
      "execution_count": 27,
      "outputs": []
    },
    {
      "cell_type": "code",
      "source": [
        "plt.figure(1, figsize = (14, 3))\n",
        "sns.countplot(y = 'Gender', data=df.toPandas())\n",
        "plt.show()"
      ],
      "metadata": {
        "id": "QPRuK8f1MKXM",
        "outputId": "3270a57c-544c-49af-e323-db57981184dd",
        "colab": {
          "base_uri": "https://localhost:8080/",
          "height": 225
        }
      },
      "execution_count": 31,
      "outputs": [
        {
          "output_type": "display_data",
          "data": {
            "text/plain": [
              "<Figure size 1008x216 with 1 Axes>"
            ],
            "image/png": "[encoded data removed]"
          },
          "metadata": {
            "needs_background": "light"
          }
        }
      ]
    }
  ]
}